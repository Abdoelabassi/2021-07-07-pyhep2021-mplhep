{
 "cells": [
  {
   "cell_type": "markdown",
   "metadata": {
    "slideshow": {
     "slide_type": "slide"
    }
   },
   "source": [
    "      \n",
    "<img src=\"https://raw.githubusercontent.com/scikit-hep/mplhep/master/docs/source/_static/mplhep.png\" width=\"70%\"/>\n",
    "\n"
   ]
  },
  {
   "cell_type": "markdown",
   "metadata": {
    "slideshow": {
     "slide_type": "slide"
    }
   },
   "source": [
    "# mplhep"
   ]
  },
  {
   "attachments": {},
   "cell_type": "markdown",
   "metadata": {
    "cell_style": "split",
    "slideshow": {
     "slide_type": "fragment"
    }
   },
   "source": [
    "## Styling\n",
    "- Easy publication grade styling\n",
    "- Distribute styles/fonts\n",
    "- Save real analyzer time\n"
   ]
  },
  {
   "cell_type": "markdown",
   "metadata": {
    "ExecuteTime": {
     "end_time": "2020-07-17T11:00:22.181763Z",
     "start_time": "2020-07-17T11:00:22.176738Z"
    },
    "cell_style": "split",
    "slideshow": {
     "slide_type": "fragment"
    }
   },
   "source": [
    "## Plotting\n",
    "- simplify use in HEP before `mpl` catches up\n",
    "- Ideally most additions would make it into `mpl`\n",
    "- Can be used as in intermediary to histogramming libraries"
   ]
  },
  {
   "cell_type": "markdown",
   "metadata": {
    "cell_style": "center",
    "slideshow": {
     "slide_type": "slide"
    }
   },
   "source": [
    "## Histogram plotting\n",
    "- `matplotlib` does not have a direct histogram plotting support\n",
    "- prebinned histogram plotting is inconvenient"
   ]
  },
  {
   "cell_type": "code",
   "execution_count": null,
   "metadata": {
    "ExecuteTime": {
     "end_time": "2020-07-17T11:03:36.030440Z",
     "start_time": "2020-07-17T11:03:36.027140Z"
    },
    "slideshow": {
     "slide_type": "subslide"
    }
   },
   "outputs": [],
   "source": [
    "import matplotlib.pyplot as plt\n",
    "import numpy as np \n",
    "np.random.seed(2)"
   ]
  },
  {
   "cell_type": "code",
   "execution_count": null,
   "metadata": {
    "ExecuteTime": {
     "end_time": "2020-07-17T11:03:39.075313Z",
     "start_time": "2020-07-17T11:03:39.067738Z"
    },
    "slideshow": {
     "slide_type": "subslide"
    }
   },
   "outputs": [],
   "source": [
    "H = np.histogram(np.random.normal(2.5, .5, 100), bins=np.arange(0,6, 0.5))\n",
    "print(\"Type:\", type(H))\n",
    "h, bins = H\n",
    "print(\"Values:\", h)\n",
    "print(\"Bins:\", bins)"
   ]
  },
  {
   "cell_type": "markdown",
   "metadata": {
    "slideshow": {
     "slide_type": "subslide"
    }
   },
   "source": [
    "### Simple Histograms"
   ]
  },
  {
   "cell_type": "code",
   "execution_count": null,
   "metadata": {
    "ExecuteTime": {
     "end_time": "2020-07-17T11:05:00.004278Z",
     "start_time": "2020-07-17T11:04:59.559184Z"
    },
    "cell_style": "center",
    "slideshow": {
     "slide_type": "fragment"
    }
   },
   "outputs": [],
   "source": [
    "f, axs = plt.subplots(1,3, figsize=(21, 5))\n",
    "\n",
    "# Filled\n",
    "axs[0].hist(bins[:-1]+np.diff(bins), bins=bins, weights=h);\n",
    "\n",
    "# Step \n",
    "axs[1].hist(bins[:-1]+np.diff(bins), bins=bins, weights=h, histtype='step');\n",
    "\n",
    "# Different step \n",
    "axs[2].step(bins, np.r_[h, h[-1]], where='post');"
   ]
  },
  {
   "cell_type": "markdown",
   "metadata": {
    "slideshow": {
     "slide_type": "subslide"
    }
   },
   "source": [
    "### With Errorbars"
   ]
  },
  {
   "cell_type": "code",
   "execution_count": null,
   "metadata": {
    "ExecuteTime": {
     "end_time": "2020-07-17T11:05:05.380370Z",
     "start_time": "2020-07-17T11:05:05.052464Z"
    },
    "slideshow": {
     "slide_type": "fragment"
    }
   },
   "outputs": [],
   "source": [
    "f, axs = plt.subplots(1,2, figsize=(14, 5))\n",
    "\n",
    "# Filled\n",
    "axs[0].hist(bins[1:]-np.diff(bins), bins=bins, weights=h);\n",
    "axs[0].errorbar(bins[1:]-np.diff(bins)/2, h, yerr=np.sqrt(h), fmt='+')\n",
    "\n",
    "# Different step \n",
    "_a = axs[1].step(bins, np.r_[h, h[-1]], where='post');\n",
    "axs[1].errorbar(bins[1:]-np.diff(bins)/2, h, yerr=np.sqrt(h), fmt='+', color=_a[0].get_color());"
   ]
  },
  {
   "cell_type": "markdown",
   "metadata": {
    "ExecuteTime": {
     "end_time": "2020-07-16T20:32:51.338576Z",
     "start_time": "2020-07-16T20:32:51.323681Z"
    },
    "slideshow": {
     "slide_type": "subslide"
    }
   },
   "source": [
    "#### But really it should be easier"
   ]
  },
  {
   "cell_type": "code",
   "execution_count": null,
   "metadata": {
    "ExecuteTime": {
     "end_time": "2020-07-17T11:06:05.691627Z",
     "start_time": "2020-07-17T11:06:05.386997Z"
    },
    "slideshow": {
     "slide_type": "fragment"
    }
   },
   "outputs": [],
   "source": [
    "import mplhep as hep\n",
    "f, axs = plt.subplots(1,2, figsize=(14, 5))\n",
    "\n",
    "hep.histplot(H, ax=axs[0])\n",
    "hep.histplot(h, bins, yerr=True, ax=axs[1]);"
   ]
  },
  {
   "cell_type": "markdown",
   "metadata": {
    "ExecuteTime": {
     "end_time": "2020-07-16T20:49:13.523865Z",
     "start_time": "2020-07-16T20:49:13.114937Z"
    },
    "slideshow": {
     "slide_type": "subslide"
    }
   },
   "source": [
    "#### Primary goal is to stay unobtrusive\n",
    "- if you know how `plt.hist()` works, `mplhep.histplot()` should behave like you'd expect\n",
    "- painless transition back if `mpl` grows a proper histogram plotting method\n",
    "- kwargs you are used to should work"
   ]
  },
  {
   "cell_type": "code",
   "execution_count": null,
   "metadata": {
    "ExecuteTime": {
     "end_time": "2020-07-17T11:07:40.322737Z",
     "start_time": "2020-07-17T11:07:40.093848Z"
    },
    "slideshow": {
     "slide_type": "fragment"
    }
   },
   "outputs": [],
   "source": [
    "f, axs = plt.subplots(1,2, figsize=(14, 5))\n",
    "\n",
    "hep.histplot(H, ax=axs[0], histtype='fill', hatch='//')\n",
    "hep.histplot(H, ax=axs[1], histtype='errorbar', yerr=True, c='black')"
   ]
  },
  {
   "cell_type": "markdown",
   "metadata": {
    "ExecuteTime": {
     "end_time": "2020-07-16T20:49:13.523865Z",
     "start_time": "2020-07-16T20:49:13.114937Z"
    },
    "slideshow": {
     "slide_type": "subslide"
    }
   },
   "source": [
    "#### Be able to do same things as `plt.hist`"
   ]
  },
  {
   "cell_type": "code",
   "execution_count": null,
   "metadata": {
    "ExecuteTime": {
     "end_time": "2020-07-17T11:08:29.223787Z",
     "start_time": "2020-07-17T11:08:28.891359Z"
    },
    "slideshow": {
     "slide_type": "fragment"
    }
   },
   "outputs": [],
   "source": [
    "f, axs = plt.subplots(1,3, figsize=(21, 5))\n",
    "\n",
    "hep.histplot([h, h*2], bins=bins, ax=axs[0], yerr=True)\n",
    "hep.histplot([h, h*2], bins=bins, ax=axs[1], stack=True)\n",
    "hep.histplot([h, h*2], bins=bins, ax=axs[2], binwnorm=[20, 9]);"
   ]
  },
  {
   "cell_type": "markdown",
   "metadata": {
    "slideshow": {
     "slide_type": "subslide"
    }
   },
   "source": [
    "#### Be convenient for a physicist"
   ]
  },
  {
   "cell_type": "code",
   "execution_count": null,
   "metadata": {
    "ExecuteTime": {
     "end_time": "2020-07-17T11:09:05.242554Z",
     "start_time": "2020-07-17T11:09:04.786988Z"
    }
   },
   "outputs": [],
   "source": [
    "f, axs = plt.subplots(1,3, figsize=(21, 5))\n",
    "\n",
    "hep.histplot([h, h*2], bins=bins, ax=axs[0], yerr=True, label=[\"MC1\", \"MC2\"])\n",
    "hep.histplot(np.random.poisson(h*3), bins=bins, ax=axs[1], yerr=True, label=\"Data\")\n",
    "hep.histplot([h, h*2], bins=bins, ax=axs[2], stack=True, label=[\"MC1\", \"MC2\"], density=True)\n",
    "hep.histplot(np.random.poisson(h*3), bins=bins, ax=axs[2], yerr=True, histtype='errorbar', label=\"Data\", density=True)\n",
    "for ax in axs:\n",
    "    ax.legend()\n",
    "axs[0].set_title(\"Some MCs\")\n",
    "axs[1].set_title(\"Draw Poisson Data\")\n",
    "axs[2].set_title(\"Data/MC Shape comparison\"); "
   ]
  },
  {
   "cell_type": "markdown",
   "metadata": {
    "slideshow": {
     "slide_type": "subslide"
    }
   },
   "source": [
    "#### Be flexible about input types"
   ]
  },
  {
   "cell_type": "code",
   "execution_count": null,
   "metadata": {
    "ExecuteTime": {
     "end_time": "2020-07-17T11:09:39.079364Z",
     "start_time": "2020-07-17T11:09:38.734397Z"
    }
   },
   "outputs": [],
   "source": [
    "f, axs = plt.subplots(1,3, figsize=(21, 5))\n",
    "\n",
    "my_hist = [1,2,3,4,2]\n",
    "hep.histplot(my_hist, bins=range(len(my_hist)+1), ax=axs[0])\n",
    "hep.histplot(H, yerr=True, ax=axs[1])\n",
    "hep.histplot(h, bins, yerr=True, ax=axs[2])\n",
    "\n",
    "axs[0].set_title(\"'Manual' inputs\")\n",
    "axs[1].set_title(\"Numpy Tuple\")\n",
    "axs[2].set_title(\"Unwrapped Tuple\");"
   ]
  },
  {
   "cell_type": "markdown",
   "metadata": {
    "slideshow": {
     "slide_type": "subslide"
    }
   },
   "source": [
    "#### and interoperable for uproot and bh"
   ]
  },
  {
   "cell_type": "code",
   "execution_count": null,
   "metadata": {
    "ExecuteTime": {
     "end_time": "2020-07-17T11:10:10.834120Z",
     "start_time": "2020-07-17T11:10:10.677571Z"
    },
    "cell_style": "split",
    "slideshow": {
     "slide_type": "fragment"
    }
   },
   "outputs": [],
   "source": [
    "import uproot4\n",
    "from skhep_testdata import data_path\n",
    "fname = data_path(\"uproot-hepdata-example.root\")\n",
    "f = uproot4.open(fname)\n",
    "print(f.keys())\n",
    "print(f['hpx'])\n",
    "hep.histplot(f['hpx']);"
   ]
  },
  {
   "cell_type": "code",
   "execution_count": null,
   "metadata": {
    "ExecuteTime": {
     "end_time": "2020-07-17T11:12:33.879215Z",
     "start_time": "2020-07-17T11:12:33.742932Z"
    },
    "cell_style": "split",
    "slideshow": {
     "slide_type": "fragment"
    }
   },
   "outputs": [],
   "source": [
    "import boost_histogram as bh\n",
    "\n",
    "hist = bh.Histogram(\n",
    "    bh.axis.Regular(10, 0.0, 1.0),\n",
    ")\n",
    "hist.fill(np.random.normal(0.5, 0.2, 1000))\n",
    "\n",
    "hep.histplot(hist);"
   ]
  },
  {
   "cell_type": "markdown",
   "metadata": {
    "slideshow": {
     "slide_type": "subslide"
    }
   },
   "source": [
    "## 2D histograms\n",
    "- minimal wrap on `plt.pcolormesh()`, which alrady has almost everything\n",
    "- fix(flip) indexing\n",
    "- add some annotation sugar ala `sns.heatmap`"
   ]
  },
  {
   "cell_type": "code",
   "execution_count": null,
   "metadata": {
    "ExecuteTime": {
     "end_time": "2020-07-17T11:13:59.242933Z",
     "start_time": "2020-07-17T11:13:59.087085Z"
    },
    "slideshow": {
     "slide_type": "fragment"
    }
   },
   "outputs": [],
   "source": [
    "hist = bh.Histogram(\n",
    "    bh.axis.Regular(10, 0.0, 1.0),\n",
    "    bh.axis.Regular(10, 0, 1)\n",
    ")\n",
    "hist.fill(np.random.normal(0.5, 0.2, 1000), np.random.normal(0.5, 0.2, 1000))\n",
    "hep.hist2dplot(hist, labels=True, cbar=False);"
   ]
  },
  {
   "cell_type": "code",
   "execution_count": null,
   "metadata": {
    "ExecuteTime": {
     "end_time": "2020-07-17T11:14:11.203581Z",
     "start_time": "2020-07-17T11:14:10.898984Z"
    },
    "slideshow": {
     "slide_type": "subslide"
    }
   },
   "outputs": [],
   "source": [
    "print(f['hpxpy'])\n",
    "hep.hist2dplot(f['hpxpy']);"
   ]
  },
  {
   "cell_type": "markdown",
   "metadata": {
    "slideshow": {
     "slide_type": "slide"
    }
   },
   "source": [
    "## Styling\n",
    "- Primary purpose of `mplhep` is to serve and distribute styles \n",
    "    - **ATLAS**\n",
    "    - **CMS**\n",
    "    - **LHCb**\n",
    "- To ensure plots looks the same on any framework fonts need to be included\n",
    " - I am liable to go on a rant, so suffice to say:\n",
    " - We package an open look-alike of Helvetica called Tex Gyre Heros"
   ]
  },
  {
   "cell_type": "code",
   "execution_count": null,
   "metadata": {
    "ExecuteTime": {
     "end_time": "2020-07-17T11:22:52.983449Z",
     "start_time": "2020-07-17T11:22:52.609482Z"
    },
    "slideshow": {
     "slide_type": "subslide"
    }
   },
   "outputs": [],
   "source": [
    "plt.style.use([hep.style.ATLAS])#, {'xtick.direction': 'out'}])\n",
    "hep.histplot(np.histogram(np.random.normal(10, 3, 1000)));\n",
    "hep.atlas.label()"
   ]
  },
  {
   "cell_type": "code",
   "execution_count": null,
   "metadata": {
    "ExecuteTime": {
     "end_time": "2020-07-17T11:23:01.276569Z",
     "start_time": "2020-07-17T11:23:00.885093Z"
    },
    "slideshow": {
     "slide_type": "subslide"
    }
   },
   "outputs": [],
   "source": [
    "plt.style.use(hep.style.CMS)\n",
    "hep.histplot(np.histogram(np.random.normal(10, 3, 1000)))\n",
    "hep.cms.label() "
   ]
  },
  {
   "cell_type": "code",
   "execution_count": null,
   "metadata": {
    "ExecuteTime": {
     "end_time": "2020-07-17T11:23:32.205016Z",
     "start_time": "2020-07-17T11:23:31.696838Z"
    },
    "slideshow": {
     "slide_type": "subslide"
    }
   },
   "outputs": [],
   "source": [
    "plt.style.use([hep.style.LHCb])\n",
    "hep.histplot(np.histogram(np.random.normal(10, 3, 1000)))\n",
    "hep.lhcb.label() "
   ]
  },
  {
   "cell_type": "markdown",
   "metadata": {
    "ExecuteTime": {
     "end_time": "2020-07-16T22:53:19.617488Z",
     "start_time": "2020-07-16T22:53:19.607120Z"
    },
    "slideshow": {
     "slide_type": "subslide"
    }
   },
   "source": [
    "### mplhep in publications\n",
    "Package has already helped produce plots in several publication\n",
    " - We can create experiment TDR guidelines compatible plots in python\n",
    "\n",
    "- [Simultaneous Jet Energy and Mass Calibrations with Neural Networks](https://cds.cern.ch/record/2706189), ATLAS Collaboration, 2019\n",
    "- [Integration and Performance of New Technologies in the CMS Simulation](https://arxiv.org/abs/2004.02327), Kevin Pedro, 2020 (Fig 3,4)\n",
    "- [GeantV: Results from the prototype of concurrent vector particle transport simulation in HEP](https://arxiv.org/abs/2005.00949), Amadio et al, 2020 (Fig 25,26)\n",
    "- [Search for the standard model Higgs boson decaying to charm quarks](https://cds.cern.ch/record/2682638), CMS Collaboration, 2019 (Fig 1)"
   ]
  },
  {
   "cell_type": "code",
   "execution_count": null,
   "metadata": {},
   "outputs": [],
   "source": []
  }
 ],
 "metadata": {
  "celltoolbar": "Slideshow",
  "kernelspec": {
   "display_name": "Python (def)",
   "language": "python",
   "name": "def"
  },
  "language_info": {
   "codemirror_mode": {
    "name": "ipython",
    "version": 3
   },
   "file_extension": ".py",
   "mimetype": "text/x-python",
   "name": "python",
   "nbconvert_exporter": "python",
   "pygments_lexer": "ipython3",
   "version": "3.7.3"
  },
  "rise": {
   "autolaunch": true,
   "enable_chalkboard": true
  }
 },
 "nbformat": 4,
 "nbformat_minor": 4
}
